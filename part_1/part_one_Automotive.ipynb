{
  "nbformat": 4,
  "nbformat_minor": 0,
  "metadata": {
    "colab": {
      "provenance": []
    },
    "kernelspec": {
      "name": "python3",
      "display_name": "Python 3"
    },
    "language_info": {
      "name": "python"
    }
  },
  "cells": [
    {
      "cell_type": "code",
      "execution_count": 1,
      "metadata": {
        "id": "GJO2lLE_Jnpp"
      },
      "outputs": [],
      "source": [
        "import os\n",
        "spark_version = 'spark-3.3.1'\n",
        "os.environ['SPARK_VERSION']=spark_version\n",
        "\n",
        "# Install Spark and Java\n",
        "!apt-get install openjdk-8-jdk-headless -qq > /dev/null\n",
        "!wget -q http://www.apache.org/dist/spark/$SPARK_VERSION/$SPARK_VERSION-bin-hadoop3.tgz\n",
        "!tar xf $SPARK_VERSION-bin-hadoop3.tgz\n",
        "!pip install -q findspark\n",
        "\n",
        "# Set Environment Variables\n",
        "import os\n",
        "os.environ[\"JAVA_HOME\"] = \"/usr/lib/jvm/java-8-openjdk-amd64\"\n",
        "os.environ[\"SPARK_HOME\"] = f\"/content/{spark_version}-bin-hadoop3\"\n",
        "\n",
        "# Start a SparkSession\n",
        "import findspark\n",
        "findspark.init()"
      ]
    },
    {
      "cell_type": "code",
      "source": [
        "# Get postgresql package\n",
        "!wget https://jdbc.postgresql.org/download/postgresql-42.2.9.jar"
      ],
      "metadata": {
        "colab": {
          "base_uri": "https://localhost:8080/"
        },
        "id": "h2Ro5iJVJ5Lv",
        "outputId": "0fb17358-43fc-4523-9333-688f7ea5f77d"
      },
      "execution_count": 2,
      "outputs": [
        {
          "output_type": "stream",
          "name": "stdout",
          "text": [
            "--2022-12-02 04:46:51--  https://jdbc.postgresql.org/download/postgresql-42.2.9.jar\n",
            "Resolving jdbc.postgresql.org (jdbc.postgresql.org)... 72.32.157.228, 2001:4800:3e1:1::228\n",
            "Connecting to jdbc.postgresql.org (jdbc.postgresql.org)|72.32.157.228|:443... connected.\n",
            "HTTP request sent, awaiting response... 200 OK\n",
            "Length: 914037 (893K) [application/java-archive]\n",
            "Saving to: ‘postgresql-42.2.9.jar’\n",
            "\n",
            "postgresql-42.2.9.j 100%[===================>] 892.61K  2.04MB/s    in 0.4s    \n",
            "\n",
            "2022-12-02 04:46:52 (2.04 MB/s) - ‘postgresql-42.2.9.jar’ saved [914037/914037]\n",
            "\n"
          ]
        }
      ]
    },
    {
      "cell_type": "code",
      "source": [
        "# Import Spark and create a SparkSession\n",
        "from pyspark.sql import SparkSession\n",
        "spark = SparkSession.builder.appName(\"BigData-HW-1\").config(\"spark.driver.extraClassPath\",\"/content/postgresql-42.2.9.jar\").getOrCreate()"
      ],
      "metadata": {
        "id": "BrwOZiCMJ5OQ"
      },
      "execution_count": 3,
      "outputs": []
    },
    {
      "cell_type": "code",
      "source": [
        "from pyspark import SparkFiles\n",
        "url =\"https://s3.amazonaws.com/amazon-reviews-pds/tsv/amazon_reviews_us_Automotive_v1_00.tsv.gz\"\n",
        "spark.sparkContext.addFile(url)\n",
        "df = spark.read.csv(SparkFiles.get(\"amazon_reviews_us_Automotive_v1_00.tsv.gz\"), sep=\"\\t\", header=True)# Read in the data from an S3 Bucket\n",
        "df.show()"
      ],
      "metadata": {
        "colab": {
          "base_uri": "https://localhost:8080/"
        },
        "id": "qHtWyaURJ5Qw",
        "outputId": "86029d71-f584-4117-f0bb-1e3dc476cbfb"
      },
      "execution_count": 4,
      "outputs": [
        {
          "output_type": "stream",
          "name": "stdout",
          "text": [
            "+-----------+-----------+--------------+----------+--------------+--------------------+----------------+-----------+-------------+-----------+----+-----------------+--------------------+--------------------+-----------+\n",
            "|marketplace|customer_id|     review_id|product_id|product_parent|       product_title|product_category|star_rating|helpful_votes|total_votes|vine|verified_purchase|     review_headline|         review_body|review_date|\n",
            "+-----------+-----------+--------------+----------+--------------+--------------------+----------------+-----------+-------------+-----------+----+-----------------+--------------------+--------------------+-----------+\n",
            "|         US|   36075342| RAB23OVFNCXZQ|B00LPRXQ4Y|     339193102|17\" 2003-2006 For...|      Automotive|          1|            0|          0|   N|                Y|     As it was used,|As it was used, t...| 2015-08-31|\n",
            "|         US|   42462164|R3NORADVJO6IE6|B000C7S0TO|     907684644|Spectra Premium C...|      Automotive|          5|            0|          0|   N|                Y|          Five Stars|Put it in fine, n...| 2015-08-31|\n",
            "|         US|   21241933|R299F4SO98S5OO|B000CO9WE4|     752246352|K&N E-4665 High P...|      Automotive|          5|            1|          1|   N|                Y|Great fit and per...|Fit wonderfully o...| 2015-08-31|\n",
            "|         US|   52570308|R2DA9DOT03UW6I|B000GKD5NI|     105401756|Suncutters Rear W...|      Automotive|          5|            2|          3|   N|                Y|Good for the pric...|Good for the pric...| 2015-08-31|\n",
            "|         US|   38200102|R2OGCH681EQHU6|B009SDA7TE|     728471129|Lug Nuts Landcrui...|      Automotive|          5|            0|          0|   N|                Y|          Five Stars|Fit perfectly on ...| 2015-08-31|\n",
            "|         US|   34866169| R2JMKIC16MHD7|B00KV15KRG|     962286893|Fits 2007-2009 Ho...|      Automotive|          5|            2|          2|   N|                Y|Fit Well and Bett...|Product fits well...| 2015-08-31|\n",
            "|         US|     184627|R1DB5DA7CWWTI8|B0002JMAKW|     267002949|Castrol 12614 Dot...|      Automotive|          5|            0|          0|   N|                Y|convenient, fast ...|convenient ,fast ...| 2015-08-31|\n",
            "|         US|    2975964|R1N8XWFDK4QACP|B00XJKMM6S|     570789093|New Power Window ...|      Automotive|          5|            0|          0|   N|                Y|          Five Stars|             is good| 2015-08-31|\n",
            "|         US|   40946484|R19VFLX6MRU0CX|B000C5CEKC|     389524802|Motorad MGC-791 L...|      Automotive|          5|            0|          0|   N|                Y|GOOD deal.  Great...|wonderful.  if yo...| 2015-08-31|\n",
            "|         US|   12554469| RLTD8YDGTP9PT|B00GD9R2A8|      21425394|Genuine Ford AL3Z...|      Automotive|          1|            0|          0|   N|                Y|Does not fit my F...|Does not work wit...| 2015-08-31|\n",
            "|         US|   35335277| R78B5LCFJ52SR|B00RM327NG|     816815445|Air Vent Smartpho...|      Automotive|          4|            0|          0|   N|                Y|            Not bad!|I really loved th...| 2015-08-31|\n",
            "|         US|   44957003|R33SKWL0HEQIQ9|B0071NL7UQ|     192225755|FDJ New Replaceme...|      Automotive|          5|            0|          0|   N|                Y|          Five Stars| Just what I wanted.| 2015-08-31|\n",
            "|         US|     444125|R1HIOV0UX7P13D|B00DSOL0FY|     849414056|Omix-Ada 17402.09...|      Automotive|          5|            0|          0|   N|                Y|          Five Stars|Great product and...| 2015-08-31|\n",
            "|         US|   35829199| R4WS0E0MSP9DH|B00GRV48TK|     651316983|GMB 530-2480 Fuel...|      Automotive|          5|            2|          2|   N|                Y|           Well made|Appears to be wel...| 2015-08-31|\n",
            "|         US|   16825098| R2RUIDUMDKG7P|B000E4PCGE|     694793259|00-03 NISSAN SENT...|      Automotive|          3|            0|          0|   N|                Y|new and a great l...|Product was as de...| 2015-08-31|\n",
            "|         US|    2583392| RZSA6L4M4D4XA|B005Z8HAUK|     732072782|Slime 40026 2X He...|      Automotive|          5|            0|          0|   N|                Y|          Five Stars|SO much quieter t...| 2015-08-31|\n",
            "|         US|   10127903|R1O3NGQNCFXKR6|B0043AV4NK|     533179941|MegaBrand N1 4\" B...|      Automotive|          5|            0|          0|   N|                Y|              decent|Great for the pri...| 2015-08-31|\n",
            "|         US|   17937309|R2IEM66RCBJ95A|B00CDHD76C|     126169507|Jackly 45-in-One ...|      Automotive|          5|            0|          0|   N|                Y|Nice set of tools...|Nice set of tools...| 2015-08-31|\n",
            "|         US|   17145638|R2BQ9O517KSCP8|B000CF1XO0|     475232737|Bosch 3397118942 ...|      Automotive|          5|            0|          0|   N|                N|          Five Stars|       Everything ok| 2015-08-31|\n",
            "|         US|   32813839|R1KF86427VR7AC|B003VLBPJA|     897802619|Heavy-Duty 15\" Ca...|      Automotive|          3|            0|          0|   N|                Y|         Three Stars|I hope the hooks ...| 2015-08-31|\n",
            "+-----------+-----------+--------------+----------+--------------+--------------------+----------------+-----------+-------------+-----------+----+-----------------+--------------------+--------------------+-----------+\n",
            "only showing top 20 rows\n",
            "\n"
          ]
        }
      ]
    },
    {
      "cell_type": "code",
      "source": [
        "df.count()"
      ],
      "metadata": {
        "colab": {
          "base_uri": "https://localhost:8080/"
        },
        "id": "Pd_lr4KjJ5S1",
        "outputId": "2e58c504-9078-4889-adb2-aa25fc61a88d"
      },
      "execution_count": 5,
      "outputs": [
        {
          "output_type": "execute_result",
          "data": {
            "text/plain": [
              "3514942"
            ]
          },
          "metadata": {},
          "execution_count": 5
        }
      ]
    },
    {
      "cell_type": "code",
      "source": [
        "from pyspark.sql.functions import to_date\n",
        "# Create the \"review_id_df\" DataFrame with the appropriate columns and data types.\n",
        "review_id_df = df[[\"review_id\", \"customer_id\", \"product_parent\", \"review_date\"]]\n",
        "review_id_df.show()"
      ],
      "metadata": {
        "colab": {
          "base_uri": "https://localhost:8080/"
        },
        "id": "UHx0o-kkJ5U4",
        "outputId": "9fb9418c-8ce5-4336-ec41-c41c10b2e7a4"
      },
      "execution_count": 6,
      "outputs": [
        {
          "output_type": "stream",
          "name": "stdout",
          "text": [
            "+--------------+-----------+--------------+-----------+\n",
            "|     review_id|customer_id|product_parent|review_date|\n",
            "+--------------+-----------+--------------+-----------+\n",
            "| RAB23OVFNCXZQ|   36075342|     339193102| 2015-08-31|\n",
            "|R3NORADVJO6IE6|   42462164|     907684644| 2015-08-31|\n",
            "|R299F4SO98S5OO|   21241933|     752246352| 2015-08-31|\n",
            "|R2DA9DOT03UW6I|   52570308|     105401756| 2015-08-31|\n",
            "|R2OGCH681EQHU6|   38200102|     728471129| 2015-08-31|\n",
            "| R2JMKIC16MHD7|   34866169|     962286893| 2015-08-31|\n",
            "|R1DB5DA7CWWTI8|     184627|     267002949| 2015-08-31|\n",
            "|R1N8XWFDK4QACP|    2975964|     570789093| 2015-08-31|\n",
            "|R19VFLX6MRU0CX|   40946484|     389524802| 2015-08-31|\n",
            "| RLTD8YDGTP9PT|   12554469|      21425394| 2015-08-31|\n",
            "| R78B5LCFJ52SR|   35335277|     816815445| 2015-08-31|\n",
            "|R33SKWL0HEQIQ9|   44957003|     192225755| 2015-08-31|\n",
            "|R1HIOV0UX7P13D|     444125|     849414056| 2015-08-31|\n",
            "| R4WS0E0MSP9DH|   35829199|     651316983| 2015-08-31|\n",
            "| R2RUIDUMDKG7P|   16825098|     694793259| 2015-08-31|\n",
            "| RZSA6L4M4D4XA|    2583392|     732072782| 2015-08-31|\n",
            "|R1O3NGQNCFXKR6|   10127903|     533179941| 2015-08-31|\n",
            "|R2IEM66RCBJ95A|   17937309|     126169507| 2015-08-31|\n",
            "|R2BQ9O517KSCP8|   17145638|     475232737| 2015-08-31|\n",
            "|R1KF86427VR7AC|   32813839|     897802619| 2015-08-31|\n",
            "+--------------+-----------+--------------+-----------+\n",
            "only showing top 20 rows\n",
            "\n"
          ]
        }
      ]
    },
    {
      "cell_type": "code",
      "source": [
        "# Create the \"products_df\" DataFrame that drops the duplicates in the \"product_id\" and \"product_title columns. \n",
        "products_df = df[[\"product_id\", \"product_title\"]]\n",
        "products_df = products_df.drop_duplicates()\n",
        "products_df.show()"
      ],
      "metadata": {
        "colab": {
          "base_uri": "https://localhost:8080/"
        },
        "id": "KBL8FsQqJ5Xd",
        "outputId": "720f761b-7b42-41f0-b4f3-d3678b29d0cd"
      },
      "execution_count": 7,
      "outputs": [
        {
          "output_type": "stream",
          "name": "stdout",
          "text": [
            "+----------+--------------------+\n",
            "|product_id|       product_title|\n",
            "+----------+--------------------+\n",
            "|B002OKKCO8|06-09 KAWASAKI ZX...|\n",
            "|B00OZXP3BY|Oem Factory Stock...|\n",
            "|B00HA26HZS|Suzuki Hayabusa G...|\n",
            "|B00BITHKD2|PT Auto Warehouse...|\n",
            "|B000688VNE|Hi-Lift Jack Hi-L...|\n",
            "|B004GCP4GS|OE Replacement Au...|\n",
            "|B0006HPA02|MSD 32829 8.5mm S...|\n",
            "|B00EK6NS22|uxcell® Car Bike ...|\n",
            "|B00WMR1I64|MICTUNING mt00880...|\n",
            "|B009S31VVW|Dorman 81702 Ford...|\n",
            "|B00QJ8FA70|Parts Player New ...|\n",
            "|B00HZOCCBY|MAXFLOORMAT Floor...|\n",
            "|B00DZPC5NM|Dodge Grand Carav...|\n",
            "|B001VKT9IW|HushMat 10301 Ult...|\n",
            "|B009SEJI66|2011-2013 Toyota ...|\n",
            "|B007QBKODO|ACDelco 18A2729 P...|\n",
            "|B007LIBJPO|Custom Accessorie...|\n",
            "|B009YKQR2C|Zone Tech 4pcs 20...|\n",
            "|B00062YAZ8|Edelbrock 4201 El...|\n",
            "|B008IAHBWY|Jeep Wrangler Tj ...|\n",
            "+----------+--------------------+\n",
            "only showing top 20 rows\n",
            "\n"
          ]
        }
      ]
    },
    {
      "cell_type": "code",
      "source": [
        "customers_df = df.groupBy(\"customer_id\").count()\n",
        "customers_df.show()"
      ],
      "metadata": {
        "colab": {
          "base_uri": "https://localhost:8080/"
        },
        "id": "_NpzvpefKfDU",
        "outputId": "30e6cd80-1dd2-433c-88c8-6d01cd34b5b6"
      },
      "execution_count": 8,
      "outputs": [
        {
          "output_type": "stream",
          "name": "stdout",
          "text": [
            "+-----------+-----+\n",
            "|customer_id|count|\n",
            "+-----------+-----+\n",
            "|    2583392|    4|\n",
            "|     129005|    1|\n",
            "|    3962209|    2|\n",
            "|   16092109|    1|\n",
            "|   46841294|    1|\n",
            "|   42126527|    4|\n",
            "|   47138302|    1|\n",
            "|   10484128|    2|\n",
            "|    5427648|    1|\n",
            "|     580770|    1|\n",
            "|   14286306|    6|\n",
            "|   13880860|    1|\n",
            "|   24095000|    2|\n",
            "|   50189080|    1|\n",
            "|   50583551|    4|\n",
            "|   15562874|    1|\n",
            "|   51068983|    3|\n",
            "|   10245571|    6|\n",
            "|   28932014|    8|\n",
            "|   42891605|    4|\n",
            "+-----------+-----+\n",
            "only showing top 20 rows\n",
            "\n"
          ]
        }
      ]
    },
    {
      "cell_type": "code",
      "source": [
        "vine_df = df[[\"review_id\", \"star_rating\", \"helpful_votes\", \"total_votes\", \"vine\"]]\n",
        "vine_df.show()"
      ],
      "metadata": {
        "colab": {
          "base_uri": "https://localhost:8080/"
        },
        "id": "UgfQAXE7KfHy",
        "outputId": "17130222-63ff-46e3-a482-9bbbea2aeda3"
      },
      "execution_count": 9,
      "outputs": [
        {
          "output_type": "stream",
          "name": "stdout",
          "text": [
            "+--------------+-----------+-------------+-----------+----+\n",
            "|     review_id|star_rating|helpful_votes|total_votes|vine|\n",
            "+--------------+-----------+-------------+-----------+----+\n",
            "| RAB23OVFNCXZQ|          1|            0|          0|   N|\n",
            "|R3NORADVJO6IE6|          5|            0|          0|   N|\n",
            "|R299F4SO98S5OO|          5|            1|          1|   N|\n",
            "|R2DA9DOT03UW6I|          5|            2|          3|   N|\n",
            "|R2OGCH681EQHU6|          5|            0|          0|   N|\n",
            "| R2JMKIC16MHD7|          5|            2|          2|   N|\n",
            "|R1DB5DA7CWWTI8|          5|            0|          0|   N|\n",
            "|R1N8XWFDK4QACP|          5|            0|          0|   N|\n",
            "|R19VFLX6MRU0CX|          5|            0|          0|   N|\n",
            "| RLTD8YDGTP9PT|          1|            0|          0|   N|\n",
            "| R78B5LCFJ52SR|          4|            0|          0|   N|\n",
            "|R33SKWL0HEQIQ9|          5|            0|          0|   N|\n",
            "|R1HIOV0UX7P13D|          5|            0|          0|   N|\n",
            "| R4WS0E0MSP9DH|          5|            2|          2|   N|\n",
            "| R2RUIDUMDKG7P|          3|            0|          0|   N|\n",
            "| RZSA6L4M4D4XA|          5|            0|          0|   N|\n",
            "|R1O3NGQNCFXKR6|          5|            0|          0|   N|\n",
            "|R2IEM66RCBJ95A|          5|            0|          0|   N|\n",
            "|R2BQ9O517KSCP8|          5|            0|          0|   N|\n",
            "|R1KF86427VR7AC|          3|            0|          0|   N|\n",
            "+--------------+-----------+-------------+-----------+----+\n",
            "only showing top 20 rows\n",
            "\n"
          ]
        }
      ]
    },
    {
      "cell_type": "code",
      "source": [
        "mode = \"append\"\n",
        "jdbc_url=\"jdbc:postgresql://<endpoint>:5432/my_data_class_db\"\n",
        "config = {\"user\":\"postgres\", \"password\": \"<password>\", \"driver\":\"org.postgresql.Driver\"}"
      ],
      "metadata": {
        "id": "LiY84ew0KfLQ"
      },
      "execution_count": null,
      "outputs": []
    },
    {
      "cell_type": "code",
      "source": [
        "# Write review_id_df to table in RDS"
      ],
      "metadata": {
        "id": "-zFT4WjpJ5Z5"
      },
      "execution_count": null,
      "outputs": []
    },
    {
      "cell_type": "code",
      "source": [
        "# Write products_df to table in RDS"
      ],
      "metadata": {
        "id": "18BkboKXKq6k"
      },
      "execution_count": null,
      "outputs": []
    },
    {
      "cell_type": "code",
      "source": [
        "# Write customers_df to table in RDS\n"
      ],
      "metadata": {
        "id": "K6UmCPbRKq_3"
      },
      "execution_count": null,
      "outputs": []
    },
    {
      "cell_type": "code",
      "source": [
        "# Write vine_df to table in RDS"
      ],
      "metadata": {
        "id": "54OVrL6gJ5cM"
      },
      "execution_count": null,
      "outputs": []
    }
  ]
}